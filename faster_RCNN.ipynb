{
 "cells": [
  {
   "cell_type": "code",
   "execution_count": null,
   "id": "1c257419-5111-4d54-be87-e18f15eefa6f",
   "metadata": {},
   "outputs": [],
   "source": []
  },
  {
   "cell_type": "code",
   "execution_count": 5,
   "id": "48555556-ea28-4e17-ba21-2e301e0a3da6",
   "metadata": {},
   "outputs": [],
   "source": [
    "#pip uninstall -y opencv-python\n",
    "#pip3 install opencv-contrib-python\n",
    "#pip3 install imutils\n",
    "import numpy as np \n",
    "import pandas as pd \n",
    "import cv2, os, re\n",
    "import matplotlib.pyplot as plt\n",
    "import imutils\n",
    "\n",
    "from tqdm import tqdm\n",
    "from imutils.object_detection import non_max_suppression\n",
    "\n",
    "from tensorflow.keras.models import load_model"
   ]
  },
  {
   "cell_type": "code",
   "execution_count": null,
   "id": "9b70e375-dbf1-4162-a2bd-d496484ed5e5",
   "metadata": {},
   "outputs": [],
   "source": [
    "# looking for the GPU on the device and how many they are\n",
    "physical_devices = tf.config.list_physical_devices('GPU')\n",
    "print(len(physical_devices))#if 0 then the computation is done on CPU\n",
    "    "
   ]
  },
  {
   "cell_type": "code",
   "execution_count": null,
   "id": "3be6674e-bf83-41b6-ada8-2d241a2e10d0",
   "metadata": {},
   "outputs": [],
   "source": [
    "#https://www.tensorflow.org/api_docs/python/tf/config/experimental/get_memory_growth\n",
    "# Avoids OOM errors\n",
    "if physical_devices is not None:\n",
    "    for gpu in physical_devices:\n",
    "        tf.config.experimental.set_memory_growth(gpu,True)\n",
    "else:\n",
    "    print('No active GPU')"
   ]
  },
  {
   "cell_type": "code",
   "execution_count": 2,
   "id": "f3cecbd0-2aa2-465f-9076-d19b8e5d2c11",
   "metadata": {},
   "outputs": [],
   "source": [
    "def find_regions(image, method):\n",
    "    \n",
    "    ss = cv2.ximgproc.segmentation.createSelectiveSearchSegmentation()\n",
    "    ss.setBaseImage(image)\n",
    "    \n",
    "    if method == 'fast':\n",
    "        ss.switchToSelectiveSearchFast()\n",
    "    else:\n",
    "        ss.switchToSelectiveSearchQuality()\n",
    "    \n",
    "    rects = ss.process()\n",
    "    boxes = []\n",
    "    for (x,y,w,h) in rects:\n",
    "        \n",
    "        boxes.append([x,y,w,h])\n",
    "        pass\n",
    "    \n",
    "    return boxes"
   ]
  },
  {
   "cell_type": "code",
   "execution_count": 8,
   "id": "614d54fa-f12e-4212-9ac8-da6391a3157f",
   "metadata": {},
   "outputs": [],
   "source": [
    "scene_path = 'C:/Users/tobia/Cumputor-vision/Data/scenes/scenes'\n",
    "\n",
    "def load_scenes():\n",
    "    \n",
    "    scenes = []\n",
    "    dirfiles = os.listdir(scene_path)\n",
    "    dirfiles = sorted(dirfiles)\n",
    "    for file in dirfiles:\n",
    "        \n",
    "        print(os.path.join(scene_path, file))\n",
    "        scene = cv2.imread(os.path.join(scene_path, file))\n",
    "        scene = cv2.cvtColor(scene, cv2.COLOR_BGR2RGB)\n",
    "        scenes.append(scene)\n",
    "        pass\n",
    "    \n",
    "    return scenes"
   ]
  },
  {
   "cell_type": "code",
   "execution_count": 9,
   "id": "bc2407e0-2303-4854-8fbc-e7701c7a6f9d",
   "metadata": {},
   "outputs": [
    {
     "name": "stdout",
     "output_type": "stream",
     "text": [
      "C:/Users/tobia/Cumputor-vision/Data/scenes/scenes\\lb_1.png\n",
      "C:/Users/tobia/Cumputor-vision/Data/scenes/scenes\\lb_2.png\n",
      "C:/Users/tobia/Cumputor-vision/Data/scenes/scenes\\lb_3.png\n",
      "C:/Users/tobia/Cumputor-vision/Data/scenes/scenes\\lb_4.png\n",
      "C:/Users/tobia/Cumputor-vision/Data/scenes/scenes\\sfbay_1.png\n",
      "C:/Users/tobia/Cumputor-vision/Data/scenes/scenes\\sfbay_2.png\n",
      "C:/Users/tobia/Cumputor-vision/Data/scenes/scenes\\sfbay_3.png\n",
      "C:/Users/tobia/Cumputor-vision/Data/scenes/scenes\\sfbay_4.png\n"
     ]
    }
   ],
   "source": [
    "scenes = load_scenes()"
   ]
  },
  {
   "cell_type": "code",
   "execution_count": 12,
   "id": "5052eacc-9b19-4bb5-a249-7e8cdd80a339",
   "metadata": {},
   "outputs": [
    {
     "ename": "AttributeError",
     "evalue": "module 'cv2' has no attribute 'ximgproc'",
     "output_type": "error",
     "traceback": [
      "\u001b[1;31m---------------------------------------------------------------------------\u001b[0m",
      "\u001b[1;31mAttributeError\u001b[0m                            Traceback (most recent call last)",
      "\u001b[1;32m<timed exec>\u001b[0m in \u001b[0;36m<module>\u001b[1;34m\u001b[0m\n",
      "\u001b[1;32m~\\AppData\\Local\\Temp\\ipykernel_492\\1280249449.py\u001b[0m in \u001b[0;36mfind_regions\u001b[1;34m(image, method)\u001b[0m\n\u001b[0;32m      1\u001b[0m \u001b[1;32mdef\u001b[0m \u001b[0mfind_regions\u001b[0m\u001b[1;33m(\u001b[0m\u001b[0mimage\u001b[0m\u001b[1;33m,\u001b[0m \u001b[0mmethod\u001b[0m\u001b[1;33m)\u001b[0m\u001b[1;33m:\u001b[0m\u001b[1;33m\u001b[0m\u001b[1;33m\u001b[0m\u001b[0m\n\u001b[0;32m      2\u001b[0m \u001b[1;33m\u001b[0m\u001b[0m\n\u001b[1;32m----> 3\u001b[1;33m     \u001b[0mss\u001b[0m \u001b[1;33m=\u001b[0m \u001b[0mcv2\u001b[0m\u001b[1;33m.\u001b[0m\u001b[0mximgproc\u001b[0m\u001b[1;33m.\u001b[0m\u001b[0msegmentation\u001b[0m\u001b[1;33m.\u001b[0m\u001b[0mcreateSelectiveSearchSegmentation\u001b[0m\u001b[1;33m(\u001b[0m\u001b[1;33m)\u001b[0m\u001b[1;33m\u001b[0m\u001b[1;33m\u001b[0m\u001b[0m\n\u001b[0m\u001b[0;32m      4\u001b[0m     \u001b[0mss\u001b[0m\u001b[1;33m.\u001b[0m\u001b[0msetBaseImage\u001b[0m\u001b[1;33m(\u001b[0m\u001b[0mimage\u001b[0m\u001b[1;33m)\u001b[0m\u001b[1;33m\u001b[0m\u001b[1;33m\u001b[0m\u001b[0m\n\u001b[0;32m      5\u001b[0m \u001b[1;33m\u001b[0m\u001b[0m\n",
      "\u001b[1;31mAttributeError\u001b[0m: module 'cv2' has no attribute 'ximgproc'"
     ]
    }
   ],
   "source": [
    "%%time\n",
    "method = \"fast\"\n",
    "\n",
    "boxes = []\n",
    "\n",
    "for scene in scenes:\n",
    "    \n",
    "    box_in_scene = find_regions(scene, method)\n",
    "    boxes.append(box_in_scene)"
   ]
  },
  {
   "cell_type": "code",
   "execution_count": 13,
   "id": "1076cbb4-68c5-4f3f-9501-337cd265f2a2",
   "metadata": {},
   "outputs": [
    {
     "ename": "OSError",
     "evalue": "No file or directory found at ",
     "output_type": "error",
     "traceback": [
      "\u001b[1;31m---------------------------------------------------------------------------\u001b[0m",
      "\u001b[1;31mOSError\u001b[0m                                   Traceback (most recent call last)",
      "\u001b[1;32m~\\AppData\\Local\\Temp\\ipykernel_492\\1324953367.py\u001b[0m in \u001b[0;36m<module>\u001b[1;34m\u001b[0m\n\u001b[1;32m----> 1\u001b[1;33m \u001b[0mmodel\u001b[0m \u001b[1;33m=\u001b[0m \u001b[0mload_model\u001b[0m\u001b[1;33m(\u001b[0m\u001b[1;34m''\u001b[0m\u001b[1;33m)\u001b[0m\u001b[1;33m\u001b[0m\u001b[1;33m\u001b[0m\u001b[0m\n\u001b[0m\u001b[0;32m      2\u001b[0m \u001b[1;33m\u001b[0m\u001b[0m\n\u001b[0;32m      3\u001b[0m \u001b[0mmodel\u001b[0m\u001b[1;33m.\u001b[0m\u001b[0msummary\u001b[0m\u001b[1;33m(\u001b[0m\u001b[1;33m)\u001b[0m\u001b[1;33m\u001b[0m\u001b[1;33m\u001b[0m\u001b[0m\n",
      "\u001b[1;32m~\\anaconda3\\lib\\site-packages\\keras\\utils\\traceback_utils.py\u001b[0m in \u001b[0;36merror_handler\u001b[1;34m(*args, **kwargs)\u001b[0m\n\u001b[0;32m     68\u001b[0m             \u001b[1;31m# To get the full stack trace, call:\u001b[0m\u001b[1;33m\u001b[0m\u001b[1;33m\u001b[0m\u001b[0m\n\u001b[0;32m     69\u001b[0m             \u001b[1;31m# `tf.debugging.disable_traceback_filtering()`\u001b[0m\u001b[1;33m\u001b[0m\u001b[1;33m\u001b[0m\u001b[0m\n\u001b[1;32m---> 70\u001b[1;33m             \u001b[1;32mraise\u001b[0m \u001b[0me\u001b[0m\u001b[1;33m.\u001b[0m\u001b[0mwith_traceback\u001b[0m\u001b[1;33m(\u001b[0m\u001b[0mfiltered_tb\u001b[0m\u001b[1;33m)\u001b[0m \u001b[1;32mfrom\u001b[0m \u001b[1;32mNone\u001b[0m\u001b[1;33m\u001b[0m\u001b[1;33m\u001b[0m\u001b[0m\n\u001b[0m\u001b[0;32m     71\u001b[0m         \u001b[1;32mfinally\u001b[0m\u001b[1;33m:\u001b[0m\u001b[1;33m\u001b[0m\u001b[1;33m\u001b[0m\u001b[0m\n\u001b[0;32m     72\u001b[0m             \u001b[1;32mdel\u001b[0m \u001b[0mfiltered_tb\u001b[0m\u001b[1;33m\u001b[0m\u001b[1;33m\u001b[0m\u001b[0m\n",
      "\u001b[1;32m~\\anaconda3\\lib\\site-packages\\keras\\saving\\save.py\u001b[0m in \u001b[0;36mload_model\u001b[1;34m(filepath, custom_objects, compile, options)\u001b[0m\n\u001b[0;32m    224\u001b[0m                 \u001b[1;32mif\u001b[0m \u001b[0misinstance\u001b[0m\u001b[1;33m(\u001b[0m\u001b[0mfilepath_str\u001b[0m\u001b[1;33m,\u001b[0m \u001b[0mstr\u001b[0m\u001b[1;33m)\u001b[0m\u001b[1;33m:\u001b[0m\u001b[1;33m\u001b[0m\u001b[1;33m\u001b[0m\u001b[0m\n\u001b[0;32m    225\u001b[0m                     \u001b[1;32mif\u001b[0m \u001b[1;32mnot\u001b[0m \u001b[0mtf\u001b[0m\u001b[1;33m.\u001b[0m\u001b[0mio\u001b[0m\u001b[1;33m.\u001b[0m\u001b[0mgfile\u001b[0m\u001b[1;33m.\u001b[0m\u001b[0mexists\u001b[0m\u001b[1;33m(\u001b[0m\u001b[0mfilepath_str\u001b[0m\u001b[1;33m)\u001b[0m\u001b[1;33m:\u001b[0m\u001b[1;33m\u001b[0m\u001b[1;33m\u001b[0m\u001b[0m\n\u001b[1;32m--> 226\u001b[1;33m                         raise IOError(\n\u001b[0m\u001b[0;32m    227\u001b[0m                             \u001b[1;34mf\"No file or directory found at {filepath_str}\"\u001b[0m\u001b[1;33m\u001b[0m\u001b[1;33m\u001b[0m\u001b[0m\n\u001b[0;32m    228\u001b[0m                         )\n",
      "\u001b[1;31mOSError\u001b[0m: No file or directory found at "
     ]
    }
   ],
   "source": [
    "model = load_model('')\n",
    "\n",
    "model.summary()"
   ]
  },
  {
   "cell_type": "code",
   "execution_count": 14,
   "id": "49cdd5c4-97bc-4921-9c83-bc7f0a65ac1b",
   "metadata": {},
   "outputs": [
    {
     "name": "stderr",
     "output_type": "stream",
     "text": [
      "0it [00:00, ?it/s]\n"
     ]
    },
    {
     "ename": "IndexError",
     "evalue": "list index out of range",
     "output_type": "error",
     "traceback": [
      "\u001b[1;31m---------------------------------------------------------------------------\u001b[0m",
      "\u001b[1;31mIndexError\u001b[0m                                Traceback (most recent call last)",
      "\u001b[1;32m~\\AppData\\Local\\Temp\\ipykernel_492\\3759826373.py\u001b[0m in \u001b[0;36m<module>\u001b[1;34m\u001b[0m\n\u001b[0;32m      5\u001b[0m     \u001b[1;33m(\u001b[0m\u001b[0mH\u001b[0m\u001b[1;33m,\u001b[0m \u001b[0mW\u001b[0m\u001b[1;33m)\u001b[0m \u001b[1;33m=\u001b[0m \u001b[0mscene\u001b[0m\u001b[1;33m.\u001b[0m\u001b[0mshape\u001b[0m\u001b[1;33m[\u001b[0m\u001b[1;33m:\u001b[0m\u001b[1;36m2\u001b[0m\u001b[1;33m]\u001b[0m\u001b[1;33m\u001b[0m\u001b[1;33m\u001b[0m\u001b[0m\n\u001b[0;32m      6\u001b[0m     \u001b[0mregion\u001b[0m\u001b[1;33m,\u001b[0m \u001b[0mloc\u001b[0m \u001b[1;33m=\u001b[0m \u001b[1;33m[\u001b[0m\u001b[1;33m]\u001b[0m\u001b[1;33m,\u001b[0m\u001b[1;33m[\u001b[0m\u001b[1;33m]\u001b[0m\u001b[1;33m\u001b[0m\u001b[1;33m\u001b[0m\u001b[0m\n\u001b[1;32m----> 7\u001b[1;33m     \u001b[1;32mfor\u001b[0m \u001b[1;33m(\u001b[0m\u001b[0mx\u001b[0m\u001b[1;33m,\u001b[0m\u001b[0my\u001b[0m\u001b[1;33m,\u001b[0m\u001b[0mw\u001b[0m\u001b[1;33m,\u001b[0m\u001b[0mh\u001b[0m\u001b[1;33m)\u001b[0m \u001b[1;32min\u001b[0m \u001b[0mboxes\u001b[0m\u001b[1;33m[\u001b[0m\u001b[0mi\u001b[0m\u001b[1;33m]\u001b[0m\u001b[1;33m:\u001b[0m\u001b[1;33m\u001b[0m\u001b[1;33m\u001b[0m\u001b[0m\n\u001b[0m\u001b[0;32m      8\u001b[0m \u001b[1;33m\u001b[0m\u001b[0m\n\u001b[0;32m      9\u001b[0m         \u001b[1;32mif\u001b[0m \u001b[0mw\u001b[0m\u001b[1;33m/\u001b[0m\u001b[0mfloat\u001b[0m\u001b[1;33m(\u001b[0m\u001b[0mW\u001b[0m\u001b[1;33m)\u001b[0m \u001b[1;33m>\u001b[0m \u001b[1;36m0.10\u001b[0m \u001b[1;32mand\u001b[0m \u001b[0mh\u001b[0m\u001b[1;33m/\u001b[0m\u001b[0mfloat\u001b[0m\u001b[1;33m(\u001b[0m\u001b[0mH\u001b[0m\u001b[1;33m)\u001b[0m \u001b[1;33m>\u001b[0m \u001b[1;36m0.10\u001b[0m\u001b[1;33m:\u001b[0m\u001b[1;33m\u001b[0m\u001b[1;33m\u001b[0m\u001b[0m\n",
      "\u001b[1;31mIndexError\u001b[0m: list index out of range"
     ]
    }
   ],
   "source": [
    "rois, locs = [], []\n",
    "images = []\n",
    "for i,scene in tqdm(enumerate(scenes)):\n",
    "    \n",
    "    (H, W) = scene.shape[:2]\n",
    "    region, loc = [],[]\n",
    "    for (x,y,w,h) in boxes[i]:\n",
    "\n",
    "        if w/float(W) > 0.10 and h/float(H) > 0.10:\n",
    "            continue\n",
    "\n",
    "        roi = scene[y:y+h,x:x+w]\n",
    "        roi = cv2.cvtColor(roi,cv2.COLOR_BGR2RGB)\n",
    "        roi = cv2.resize(roi, (48,48))\n",
    "\n",
    "        rois.append(roi)\n",
    "        locs.append((x,y,x+w,y+h))\n",
    "        pass\n",
    "    \n",
    "    preds = model.predict(np.array(rois,dtype=np.float32))\n",
    "    preds = np.argmax(preds, axis=1)\n",
    "    \n",
    "    img = scene.copy()\n",
    "    for (i,label) in enumerate(preds):\n",
    "\n",
    "        if label == 1:\n",
    "            (startX,startY,endX,endY) = locs[i]\n",
    "            cv2.rectangle(img,(startX,startY),(endX,endY),(0,255,0),2)\n",
    "        pass\n",
    "    \n",
    "    images.append(img)\n",
    "    del rois[:]\n",
    "    del locs[:]"
   ]
  },
  {
   "cell_type": "code",
   "execution_count": null,
   "id": "ef1953c3-b935-46f9-9e4f-7532bc72b5c8",
   "metadata": {},
   "outputs": [],
   "source": []
  }
 ],
 "metadata": {
  "kernelspec": {
   "display_name": "Python 3 (ipykernel)",
   "language": "python",
   "name": "python3"
  },
  "language_info": {
   "codemirror_mode": {
    "name": "ipython",
    "version": 3
   },
   "file_extension": ".py",
   "mimetype": "text/x-python",
   "name": "python",
   "nbconvert_exporter": "python",
   "pygments_lexer": "ipython3",
   "version": "3.9.13"
  }
 },
 "nbformat": 4,
 "nbformat_minor": 5
}
